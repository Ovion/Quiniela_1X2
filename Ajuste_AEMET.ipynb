{
 "cells": [
  {
   "cell_type": "code",
   "execution_count": 1,
   "metadata": {},
   "outputs": [],
   "source": [
    "import pandas as pd\n",
    "import os\n",
    "from dotenv import load_dotenv\n",
    "import json\n",
    "import re\n",
    "import requests\n",
    "import time\n",
    "\n",
    "import swagger_client\n",
    "from swagger_client.rest import ApiException"
   ]
  },
  {
   "cell_type": "code",
   "execution_count": 2,
   "metadata": {},
   "outputs": [],
   "source": [
    "requests.packages.urllib3.util.ssl_.DEFAULT_CIPHERS += 'HIGH:!DH:!aNULL'\n",
    "try:\n",
    "    requests.packages.urllib3.contrib.pyopenssl.DEFAULT_SSL_CIPHER_LIST += 'HIGH:!DH:!aNULL'\n",
    "except AttributeError:\n",
    "    # no pyopenssl support used / needed / available\n",
    "    pass"
   ]
  },
  {
   "cell_type": "code",
   "execution_count": 3,
   "metadata": {},
   "outputs": [],
   "source": [
    "load_dotenv()\n",
    "AEMET_KEY = os.getenv(\"KEY_AEMET\")\n",
    "configuration = swagger_client.Configuration()\n",
    "configuration.api_key['api_key'] = AEMET_KEY\n",
    "api_instance = swagger_client.ValoresClimatologicosApi(swagger_client.ApiClient(configuration))"
   ]
  },
  {
   "cell_type": "code",
   "execution_count": 4,
   "metadata": {},
   "outputs": [],
   "source": [
    "df15 = pd.read_csv('data/Temp15-16_meteo.csv')\n",
    "df16 = pd.read_csv('data/Temp16-17_meteo.csv')\n",
    "df17 = pd.read_csv('data/Temp17-18_meteo.csv')"
   ]
  },
  {
   "cell_type": "code",
   "execution_count": 76,
   "metadata": {},
   "outputs": [
    {
     "data": {
      "text/html": [
       "<div>\n",
       "<style scoped>\n",
       "    .dataframe tbody tr th:only-of-type {\n",
       "        vertical-align: middle;\n",
       "    }\n",
       "\n",
       "    .dataframe tbody tr th {\n",
       "        vertical-align: top;\n",
       "    }\n",
       "\n",
       "    .dataframe thead th {\n",
       "        text-align: right;\n",
       "    }\n",
       "</style>\n",
       "<table border=\"1\" class=\"dataframe\">\n",
       "  <thead>\n",
       "    <tr style=\"text-align: right;\">\n",
       "      <th></th>\n",
       "      <th>Equipo Local</th>\n",
       "      <th>Goles</th>\n",
       "      <th>Ataque</th>\n",
       "      <th>Medio</th>\n",
       "      <th>Defensa</th>\n",
       "      <th>Goles_Acumulados</th>\n",
       "      <th>Equipo Visitante</th>\n",
       "      <th>Goles.1</th>\n",
       "      <th>Ataque.1</th>\n",
       "      <th>Medio.1</th>\n",
       "      <th>...</th>\n",
       "      <th>Resultado</th>\n",
       "      <th>cod_est</th>\n",
       "      <th>tmin</th>\n",
       "      <th>tmed</th>\n",
       "      <th>tmax</th>\n",
       "      <th>prec</th>\n",
       "      <th>presmin</th>\n",
       "      <th>presmax</th>\n",
       "      <th>velmedia</th>\n",
       "      <th>rachaviento</th>\n",
       "    </tr>\n",
       "  </thead>\n",
       "  <tbody>\n",
       "    <tr>\n",
       "      <th>323</th>\n",
       "      <td>Osasuna</td>\n",
       "      <td>2</td>\n",
       "      <td>75</td>\n",
       "      <td>73</td>\n",
       "      <td>73</td>\n",
       "      <td>32</td>\n",
       "      <td>Sporting de Gijón</td>\n",
       "      <td>2</td>\n",
       "      <td>75</td>\n",
       "      <td>73</td>\n",
       "      <td>...</td>\n",
       "      <td>1</td>\n",
       "      <td>9263D</td>\n",
       "      <td>1.9</td>\n",
       "      <td>12.6</td>\n",
       "      <td>23.3</td>\n",
       "      <td>0.0</td>\n",
       "      <td>965.9</td>\n",
       "      <td>973.0</td>\n",
       "      <td>0.8</td>\n",
       "      <td>-</td>\n",
       "    </tr>\n",
       "  </tbody>\n",
       "</table>\n",
       "<p>1 rows × 25 columns</p>\n",
       "</div>"
      ],
      "text/plain": [
       "    Equipo Local  Goles  Ataque  Medio  Defensa  Goles_Acumulados  \\\n",
       "323      Osasuna      2      75     73       73                32   \n",
       "\n",
       "      Equipo Visitante  Goles.1  Ataque.1  Medio.1  ...  Resultado  cod_est  \\\n",
       "323  Sporting de Gijón        2        75       73  ...          1    9263D   \n",
       "\n",
       "    tmin  tmed  tmax  prec presmin presmax velmedia rachaviento  \n",
       "323  1.9  12.6  23.3   0.0   965.9   973.0      0.8           -  \n",
       "\n",
       "[1 rows x 25 columns]"
      ]
     },
     "execution_count": 76,
     "metadata": {},
     "output_type": "execute_result"
    }
   ],
   "source": [
    "df16.loc[(df16.rachaviento == '-')]"
   ]
  },
  {
   "cell_type": "code",
   "execution_count": 77,
   "metadata": {},
   "outputs": [],
   "source": [
    "est_meteo_mod16 = {\n",
    "\n",
    "'Osasuna': {'prov':'Navarra',\n",
    "            'cod_est':'9294E'},\n",
    "\n",
    "}"
   ]
  },
  {
   "cell_type": "code",
   "execution_count": 78,
   "metadata": {},
   "outputs": [],
   "source": [
    "df16.loc[(df16.rachaviento == '-'), 'cod_est'] = df16.loc[(df16.rachaviento == '-')]['Equipo Local'].apply(lambda x: est_meteo_mod16[x]['cod_est'])"
   ]
  },
  {
   "cell_type": "code",
   "execution_count": 79,
   "metadata": {},
   "outputs": [
    {
     "name": "stdout",
     "output_type": "stream",
     "text": [
      "Obteniendo datos de la fila: 323\n",
      "<Response [200]>\n",
      "\n",
      "\n",
      "\n"
     ]
    }
   ],
   "source": [
    "for index, row in df16.loc[(df16.rachaviento == '-')].iterrows():\n",
    "    print(f'Obteniendo datos de la fila: {index}')\n",
    "    fecha_ini = row.Día + 'T00:00:00UTC'\n",
    "    fecha_fin = row.Día + 'T23:59:59UTC'\n",
    "    estacion = row.cod_est\n",
    "    \n",
    "    try:\n",
    "        respuesta_api = api_instance.climatologas_diarias_(fecha_ini, fecha_fin, estacion)\n",
    "        url_respuesta = respuesta_api.datos\n",
    "        response = requests.request(\"GET\", url_respuesta)\n",
    "        print(response)\n",
    "        print('\\n\\n')\n",
    "        meteo = json.loads(response.text)[0]\n",
    "        \n",
    "        try:\n",
    "            df16.loc[index, 'rachaviento'] = meteo['racha']\n",
    "        except:\n",
    "            df16.loc[index, 'rachaviento'] = '-'\n",
    "\n",
    "        time.sleep(5)\n",
    "    except ApiException as e:\n",
    "        print ('Algo ha fallado')\n",
    "    "
   ]
  },
  {
   "cell_type": "code",
   "execution_count": 80,
   "metadata": {},
   "outputs": [
    {
     "data": {
      "text/plain": [
       "Equipo Local                    Osasuna\n",
       "Goles                                 2\n",
       "Ataque                               75\n",
       "Medio                                73\n",
       "Defensa                              73\n",
       "Goles_Acumulados                     32\n",
       "Equipo Visitante      Sporting de Gijón\n",
       "Goles.1                               2\n",
       "Ataque.1                             75\n",
       "Medio.1                              73\n",
       "Defensa.1                            73\n",
       "Goles_Acumulados.1                   34\n",
       "Día                          2017-04-22\n",
       "Hora                              18:30\n",
       "Jornada                              33\n",
       "Resultado                             1\n",
       "cod_est                           9294E\n",
       "tmin                                1.9\n",
       "tmed                               12.6\n",
       "tmax                               23.3\n",
       "prec                                0.0\n",
       "presmin                           965.9\n",
       "presmax                           973.0\n",
       "velmedia                            0.8\n",
       "rachaviento                         7,5\n",
       "Name: 323, dtype: object"
      ]
     },
     "execution_count": 80,
     "metadata": {},
     "output_type": "execute_result"
    }
   ],
   "source": [
    "df16.iloc[323]"
   ]
  },
  {
   "cell_type": "code",
   "execution_count": 35,
   "metadata": {},
   "outputs": [],
   "source": [
    "def change_prec(val):\n",
    "    if val == 'Ip':\n",
    "        return '0,05'\n",
    "    elif val == '-':\n",
    "        return '0,0'\n",
    "    else:\n",
    "        return val\n",
    "    \n",
    "df16.prec = df16.prec.apply(lambda x: change_prec(x))"
   ]
  },
  {
   "cell_type": "code",
   "execution_count": 83,
   "metadata": {},
   "outputs": [],
   "source": [
    "df16.to_csv('data/Temp16-17_meteo.csv', index=False)"
   ]
  },
  {
   "cell_type": "code",
   "execution_count": 73,
   "metadata": {},
   "outputs": [
    {
     "data": {
      "text/html": [
       "<div>\n",
       "<style scoped>\n",
       "    .dataframe tbody tr th:only-of-type {\n",
       "        vertical-align: middle;\n",
       "    }\n",
       "\n",
       "    .dataframe tbody tr th {\n",
       "        vertical-align: top;\n",
       "    }\n",
       "\n",
       "    .dataframe thead th {\n",
       "        text-align: right;\n",
       "    }\n",
       "</style>\n",
       "<table border=\"1\" class=\"dataframe\">\n",
       "  <thead>\n",
       "    <tr style=\"text-align: right;\">\n",
       "      <th></th>\n",
       "      <th>tmin</th>\n",
       "      <th>tmed</th>\n",
       "      <th>tmax</th>\n",
       "      <th>prec</th>\n",
       "      <th>presmin</th>\n",
       "      <th>presmax</th>\n",
       "      <th>velmedia</th>\n",
       "      <th>rachaviento</th>\n",
       "    </tr>\n",
       "  </thead>\n",
       "  <tbody>\n",
       "    <tr>\n",
       "      <th>0</th>\n",
       "      <td>26.9</td>\n",
       "      <td>32.8</td>\n",
       "      <td>38.6</td>\n",
       "      <td>0.0</td>\n",
       "      <td>1002.8</td>\n",
       "      <td>1006.0</td>\n",
       "      <td>3.3</td>\n",
       "      <td>8.3</td>\n",
       "    </tr>\n",
       "    <tr>\n",
       "      <th>1</th>\n",
       "      <td>18.1</td>\n",
       "      <td>21.0</td>\n",
       "      <td>23.8</td>\n",
       "      <td>0.05</td>\n",
       "      <td>1001.6</td>\n",
       "      <td>1011.0</td>\n",
       "      <td>5.0</td>\n",
       "      <td>12.8</td>\n",
       "    </tr>\n",
       "    <tr>\n",
       "      <th>2</th>\n",
       "      <td>23.5</td>\n",
       "      <td>26.4</td>\n",
       "      <td>29.2</td>\n",
       "      <td>0.0</td>\n",
       "      <td>1011.6</td>\n",
       "      <td>1019.0</td>\n",
       "      <td>7.2</td>\n",
       "      <td>13.9</td>\n",
       "    </tr>\n",
       "    <tr>\n",
       "      <th>3</th>\n",
       "      <td>16.1</td>\n",
       "      <td>26.1</td>\n",
       "      <td>36.1</td>\n",
       "      <td>0.0</td>\n",
       "      <td>949.6</td>\n",
       "      <td>952.9</td>\n",
       "      <td>2.8</td>\n",
       "      <td>10.8</td>\n",
       "    </tr>\n",
       "    <tr>\n",
       "      <th>4</th>\n",
       "      <td>21.6</td>\n",
       "      <td>29.7</td>\n",
       "      <td>37.8</td>\n",
       "      <td>0.0</td>\n",
       "      <td>1009.8</td>\n",
       "      <td>1013.4</td>\n",
       "      <td>4.2</td>\n",
       "      <td>13.3</td>\n",
       "    </tr>\n",
       "  </tbody>\n",
       "</table>\n",
       "</div>"
      ],
      "text/plain": [
       "   tmin  tmed  tmax  prec presmin presmax velmedia rachaviento\n",
       "0  26.9  32.8  38.6   0.0  1002.8  1006.0      3.3         8.3\n",
       "1  18.1  21.0  23.8  0.05  1001.6  1011.0      5.0        12.8\n",
       "2  23.5  26.4  29.2   0.0  1011.6  1019.0      7.2        13.9\n",
       "3  16.1  26.1  36.1   0.0   949.6   952.9      2.8        10.8\n",
       "4  21.6  29.7  37.8   0.0  1009.8  1013.4      4.2        13.3"
      ]
     },
     "execution_count": 73,
     "metadata": {},
     "output_type": "execute_result"
    }
   ],
   "source": [
    "df16.loc[:,'tmin':].head()"
   ]
  },
  {
   "cell_type": "code",
   "execution_count": 81,
   "metadata": {},
   "outputs": [],
   "source": [
    "df16.loc[:,'tmin':] = df16.loc[:,'tmin':].apply(lambda x: x.str.replace(',', '.'))\n",
    "df16.loc[:,'tmin':] = df16.loc[:,'tmin':].apply(pd.to_numeric, downcast='float')"
   ]
  },
  {
   "cell_type": "code",
   "execution_count": 82,
   "metadata": {},
   "outputs": [
    {
     "name": "stdout",
     "output_type": "stream",
     "text": [
      "<class 'pandas.core.frame.DataFrame'>\n",
      "RangeIndex: 380 entries, 0 to 379\n",
      "Data columns (total 25 columns):\n",
      " #   Column              Non-Null Count  Dtype  \n",
      "---  ------              --------------  -----  \n",
      " 0   Equipo Local        380 non-null    object \n",
      " 1   Goles               380 non-null    int64  \n",
      " 2   Ataque              380 non-null    int64  \n",
      " 3   Medio               380 non-null    int64  \n",
      " 4   Defensa             380 non-null    int64  \n",
      " 5   Goles_Acumulados    380 non-null    int64  \n",
      " 6   Equipo Visitante    380 non-null    object \n",
      " 7   Goles.1             380 non-null    int64  \n",
      " 8   Ataque.1            380 non-null    int64  \n",
      " 9   Medio.1             380 non-null    int64  \n",
      " 10  Defensa.1           380 non-null    int64  \n",
      " 11  Goles_Acumulados.1  380 non-null    int64  \n",
      " 12  Día                 380 non-null    object \n",
      " 13  Hora                380 non-null    object \n",
      " 14  Jornada             380 non-null    int64  \n",
      " 15  Resultado           380 non-null    int64  \n",
      " 16  cod_est             380 non-null    object \n",
      " 17  tmin                380 non-null    float32\n",
      " 18  tmed                380 non-null    float32\n",
      " 19  tmax                380 non-null    float32\n",
      " 20  prec                380 non-null    float32\n",
      " 21  presmin             380 non-null    float32\n",
      " 22  presmax             380 non-null    float32\n",
      " 23  velmedia            380 non-null    float32\n",
      " 24  rachaviento         380 non-null    float32\n",
      "dtypes: float32(8), int64(12), object(5)\n",
      "memory usage: 62.5+ KB\n"
     ]
    }
   ],
   "source": [
    "df16.info()"
   ]
  },
  {
   "cell_type": "code",
   "execution_count": null,
   "metadata": {},
   "outputs": [],
   "source": []
  },
  {
   "cell_type": "code",
   "execution_count": null,
   "metadata": {},
   "outputs": [],
   "source": []
  },
  {
   "cell_type": "code",
   "execution_count": null,
   "metadata": {},
   "outputs": [],
   "source": [
    "est_meteo = {\n",
    "'Eibar': {'prov':'Gipuzkoa',\n",
    "         'cod_est':'1050J'},\n",
    "'Granada': {'prov':'Granada',\n",
    "            'cod_est':'5530E'},\n",
    "'Sporting de Gijón': {'prov':'Asturias',\n",
    "                      'cod_est':'1207U'},\n",
    "'Girona': {'prov':'Girona',\n",
    "           'cod_est':'0367'},\n",
    "'Espanyol': {'prov':'Barcelona',\n",
    "             'cod_est':'0076'},\n",
    "'Rayo Vallecano': {'prov':'Madrid',\n",
    "                   'cod_est':'3195'},\n",
    "'Athletic Club': {'prov':'Bizkaia',\n",
    "                  'cod_est':'1082'},\n",
    "'Alavés': {'prov':'Araba',\n",
    "           'cod_est':'9091R'},\n",
    "'Osasuna': {'prov':'Navarra',\n",
    "            'cod_est':'9263D'},\n",
    "'Deportivo de La Coruña': {'prov':'A Coruña',\n",
    "                           'cod_est':'1387'},\n",
    "'Sevilla': {'prov':'Sevilla',\n",
    "            'cod_est':'5783'},\n",
    "'Real Madrid': {'prov':'Madrid',\n",
    "                'cod_est':'3195'},\n",
    "'Leganés': {'prov':'Madrid',\n",
    "            'cod_est':'3195'},\n",
    "'Levante': {'prov':'Valencia',\n",
    "            'cod_est':'8414A'},\n",
    "'Barcelona': {'prov':'Barcelona',\n",
    "              'cod_est':'0076'},\n",
    "'Getafe': {'prov':'Madrid',\n",
    "           'cod_est':'3195'},\n",
    "'Málaga': {'prov':'Málaga',\n",
    "           'cod_est':'6156X'},\n",
    "'Villarreal': {'prov':'Castellón',\n",
    "               'cod_est':'8500A'},\n",
    "'Atlético de Madrid': {'prov':'Madrid',\n",
    "                       'cod_est':'3195'},\n",
    "'Real Sociedad': {'prov':'Gipuzkoa',\n",
    "                  'cod_est':'1014A'},\n",
    "'Las Palmas': {'prov':'Las Palmas',\n",
    "               'cod_est':'C659M'},\n",
    "'Celta de Vigo': {'prov':'Pontevedra',\n",
    "         'cod_est':'1495'},\n",
    "'Betis': {'prov':'Sevilla',\n",
    "          'cod_est':'5783'},\n",
    "'Valencia': {'prov':'Valencia',\n",
    "             'cod_est':'8414A'}\n",
    "\n",
    "}\n"
   ]
  },
  {
   "cell_type": "code",
   "execution_count": null,
   "metadata": {},
   "outputs": [],
   "source": []
  },
  {
   "cell_type": "code",
   "execution_count": null,
   "metadata": {},
   "outputs": [],
   "source": []
  },
  {
   "cell_type": "code",
   "execution_count": null,
   "metadata": {},
   "outputs": [],
   "source": []
  },
  {
   "cell_type": "code",
   "execution_count": null,
   "metadata": {},
   "outputs": [],
   "source": []
  },
  {
   "cell_type": "code",
   "execution_count": null,
   "metadata": {},
   "outputs": [],
   "source": []
  },
  {
   "cell_type": "code",
   "execution_count": null,
   "metadata": {},
   "outputs": [],
   "source": []
  },
  {
   "cell_type": "code",
   "execution_count": null,
   "metadata": {},
   "outputs": [],
   "source": []
  },
  {
   "cell_type": "code",
   "execution_count": null,
   "metadata": {},
   "outputs": [],
   "source": []
  },
  {
   "cell_type": "code",
   "execution_count": null,
   "metadata": {},
   "outputs": [],
   "source": []
  },
  {
   "cell_type": "code",
   "execution_count": null,
   "metadata": {},
   "outputs": [],
   "source": []
  },
  {
   "cell_type": "code",
   "execution_count": null,
   "metadata": {},
   "outputs": [],
   "source": []
  }
 ],
 "metadata": {
  "kernelspec": {
   "display_name": "Python 3",
   "language": "python",
   "name": "python3"
  },
  "language_info": {
   "codemirror_mode": {
    "name": "ipython",
    "version": 3
   },
   "file_extension": ".py",
   "mimetype": "text/x-python",
   "name": "python",
   "nbconvert_exporter": "python",
   "pygments_lexer": "ipython3",
   "version": "3.8.2"
  }
 },
 "nbformat": 4,
 "nbformat_minor": 4
}
