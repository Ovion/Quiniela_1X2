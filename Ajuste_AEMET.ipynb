{
 "cells": [
  {
   "cell_type": "code",
   "execution_count": 1,
   "metadata": {},
   "outputs": [],
   "source": [
    "import pandas as pd\n",
    "import os\n",
    "from dotenv import load_dotenv\n",
    "import json\n",
    "import re\n",
    "import requests\n",
    "import time\n",
    "\n",
    "import swagger_client\n",
    "from swagger_client.rest import ApiException"
   ]
  },
  {
   "cell_type": "code",
   "execution_count": 2,
   "metadata": {},
   "outputs": [],
   "source": [
    "requests.packages.urllib3.util.ssl_.DEFAULT_CIPHERS += 'HIGH:!DH:!aNULL'\n",
    "try:\n",
    "    requests.packages.urllib3.contrib.pyopenssl.DEFAULT_SSL_CIPHER_LIST += 'HIGH:!DH:!aNULL'\n",
    "except AttributeError:\n",
    "    # no pyopenssl support used / needed / available\n",
    "    pass"
   ]
  },
  {
   "cell_type": "code",
   "execution_count": 3,
   "metadata": {},
   "outputs": [],
   "source": [
    "load_dotenv()\n",
    "AEMET_KEY = os.getenv(\"KEY_AEMET\")\n",
    "configuration = swagger_client.Configuration()\n",
    "configuration.api_key['api_key'] = AEMET_KEY\n",
    "api_instance = swagger_client.ValoresClimatologicosApi(swagger_client.ApiClient(configuration))"
   ]
  },
  {
   "cell_type": "code",
   "execution_count": 25,
   "metadata": {},
   "outputs": [],
   "source": [
    "df15 = pd.read_csv('data/Temp15-16_meteo.csv')\n",
    "df16 = pd.read_csv('data/Temp16-17_meteo.csv')\n",
    "df17 = pd.read_csv('data/Temp17-18_meteo.csv')"
   ]
  },
  {
   "cell_type": "code",
   "execution_count": 20,
   "metadata": {},
   "outputs": [
    {
     "data": {
      "text/html": [
       "<div>\n",
       "<style scoped>\n",
       "    .dataframe tbody tr th:only-of-type {\n",
       "        vertical-align: middle;\n",
       "    }\n",
       "\n",
       "    .dataframe tbody tr th {\n",
       "        vertical-align: top;\n",
       "    }\n",
       "\n",
       "    .dataframe thead th {\n",
       "        text-align: right;\n",
       "    }\n",
       "</style>\n",
       "<table border=\"1\" class=\"dataframe\">\n",
       "  <thead>\n",
       "    <tr style=\"text-align: right;\">\n",
       "      <th></th>\n",
       "      <th>Equipo Local</th>\n",
       "      <th>Goles</th>\n",
       "      <th>Ataque</th>\n",
       "      <th>Medio</th>\n",
       "      <th>Defensa</th>\n",
       "      <th>Goles_Acumulados</th>\n",
       "      <th>Equipo Visitante</th>\n",
       "      <th>Goles.1</th>\n",
       "      <th>Ataque.1</th>\n",
       "      <th>Medio.1</th>\n",
       "      <th>...</th>\n",
       "      <th>Resultado</th>\n",
       "      <th>cod_est</th>\n",
       "      <th>tmin</th>\n",
       "      <th>tmed</th>\n",
       "      <th>tmax</th>\n",
       "      <th>prec</th>\n",
       "      <th>presmin</th>\n",
       "      <th>presmax</th>\n",
       "      <th>velmedia</th>\n",
       "      <th>rachaviento</th>\n",
       "    </tr>\n",
       "  </thead>\n",
       "  <tbody>\n",
       "  </tbody>\n",
       "</table>\n",
       "<p>0 rows × 25 columns</p>\n",
       "</div>"
      ],
      "text/plain": [
       "Empty DataFrame\n",
       "Columns: [Equipo Local, Goles, Ataque, Medio, Defensa, Goles_Acumulados, Equipo Visitante, Goles.1, Ataque.1, Medio.1, Defensa.1, Goles_Acumulados.1, Día, Hora, Jornada, Resultado, cod_est, tmin, tmed, tmax, prec, presmin, presmax, velmedia, rachaviento]\n",
       "Index: []\n",
       "\n",
       "[0 rows x 25 columns]"
      ]
     },
     "execution_count": 20,
     "metadata": {},
     "output_type": "execute_result"
    }
   ],
   "source": [
    "df15.loc[df15.prec=='Ip']"
   ]
  },
  {
   "cell_type": "code",
   "execution_count": 12,
   "metadata": {},
   "outputs": [],
   "source": [
    "est_meteo_mod15 = {\n",
    "\n",
    "'Las Palmas': {'prov':'Las Palmas',\n",
    "               'cod_est':'C649I'},\n",
    "\n",
    "}"
   ]
  },
  {
   "cell_type": "code",
   "execution_count": 13,
   "metadata": {},
   "outputs": [],
   "source": [
    "df15.loc[df15.tmin.isnull(), 'cod_est'] = df15.loc[df15.tmin.isnull()]['Equipo Local'].apply(lambda x: est_meteo_mod15[x]['cod_est'])"
   ]
  },
  {
   "cell_type": "code",
   "execution_count": 15,
   "metadata": {},
   "outputs": [
    {
     "name": "stdout",
     "output_type": "stream",
     "text": [
      "Obteniendo datos de la fila: 261\n",
      "<Response [200]>\n",
      "\n",
      "\n",
      "\n"
     ]
    }
   ],
   "source": [
    "for index, row in df15.loc[df15.tmin.isnull()].iterrows():\n",
    "    print(f'Obteniendo datos de la fila: {index}')\n",
    "    fecha_ini = row.Día + 'T00:00:00UTC'\n",
    "    fecha_fin = row.Día + 'T23:59:59UTC'\n",
    "    estacion = row.cod_est\n",
    "    \n",
    "    try:\n",
    "        respuesta_api = api_instance.climatologas_diarias_(fecha_ini, fecha_fin, estacion)\n",
    "        url_respuesta = respuesta_api.datos\n",
    "        response = requests.request(\"GET\", url_respuesta)\n",
    "        print(response)\n",
    "        print('\\n\\n')\n",
    "        meteo = json.loads(response.text)[0]\n",
    "        \n",
    "\n",
    "        try:\n",
    "            df15.loc[index, 'tmin'] = meteo['tmin']\n",
    "        except:\n",
    "            df15.loc[index, 'tmin'] = '-'\n",
    "        try:\n",
    "            df15.loc[index, 'tmed'] = meteo['tmed']\n",
    "        except:\n",
    "            df15.loc[index, 'tmed'] = '-'\n",
    "        try:\n",
    "            df15.loc[index, 'tmax'] = meteo['tmax']\n",
    "        except:\n",
    "            df15.loc[index, 'tmax'] = '-'\n",
    "        try:\n",
    "            df15.loc[index, 'prec'] = meteo['prec']\n",
    "        except:\n",
    "            df15.loc[index, 'prec'] = '-'\n",
    "        try:\n",
    "            df15.loc[index, 'presmin'] = meteo['presMin']\n",
    "        except:\n",
    "            df15.loc[index, 'presmin'] = '-'\n",
    "        try:\n",
    "            df15.loc[index, 'presmax'] = meteo['presMax']\n",
    "        except:\n",
    "            df15.loc[index, 'presmax'] = '-'\n",
    "        try:\n",
    "            df15.loc[index, 'velmedia'] = meteo['velmedia']\n",
    "        except:\n",
    "            df15.loc[index, 'velmedia'] = '-'\n",
    "        try:\n",
    "            df15.loc[index, 'rachaviento'] = meteo['racha']\n",
    "        except:\n",
    "            df15.loc[index, 'rachaviento'] = '-'\n",
    "\n",
    "        time.sleep(5)\n",
    "    except ApiException as e:\n",
    "        print ('Algo ha fallado')\n",
    "    "
   ]
  },
  {
   "cell_type": "code",
   "execution_count": 17,
   "metadata": {},
   "outputs": [
    {
     "data": {
      "text/plain": [
       "Equipo Local          Las Palmas\n",
       "Goles                          4\n",
       "Ataque                        73\n",
       "Medio                         71\n",
       "Defensa                       70\n",
       "Goles_Acumulados              25\n",
       "Equipo Visitante          Getafe\n",
       "Goles.1                        0\n",
       "Ataque.1                      73\n",
       "Medio.1                       75\n",
       "Defensa.1                     74\n",
       "Goles_Acumulados.1            26\n",
       "Día                   2016-03-01\n",
       "Hora                       22:00\n",
       "Jornada                       27\n",
       "Resultado                      2\n",
       "cod_est                    C649I\n",
       "tmin                        16,3\n",
       "tmed                        18,5\n",
       "tmax                        20,7\n",
       "prec                         0,0\n",
       "presmin                   1017,2\n",
       "presmax                   1020,8\n",
       "velmedia                     8,3\n",
       "rachaviento                 15,3\n",
       "Name: 261, dtype: object"
      ]
     },
     "execution_count": 17,
     "metadata": {},
     "output_type": "execute_result"
    }
   ],
   "source": [
    "df15.iloc[261]"
   ]
  },
  {
   "cell_type": "code",
   "execution_count": 23,
   "metadata": {},
   "outputs": [],
   "source": [
    "def change_prec(val):\n",
    "    if val == 'Ip':\n",
    "        return '0,05'\n",
    "    elif val == '-':\n",
    "        return '0,0'\n",
    "    else:\n",
    "        return val\n",
    "    \n",
    "df15.prec = df15.prec.apply(lambda x: change_prec(x))"
   ]
  },
  {
   "cell_type": "code",
   "execution_count": 24,
   "metadata": {},
   "outputs": [],
   "source": [
    "df15.to_csv('data/Temp15-16_meteo.csv', index=False)"
   ]
  },
  {
   "cell_type": "code",
   "execution_count": 22,
   "metadata": {},
   "outputs": [
    {
     "data": {
      "text/html": [
       "<div>\n",
       "<style scoped>\n",
       "    .dataframe tbody tr th:only-of-type {\n",
       "        vertical-align: middle;\n",
       "    }\n",
       "\n",
       "    .dataframe tbody tr th {\n",
       "        vertical-align: top;\n",
       "    }\n",
       "\n",
       "    .dataframe thead th {\n",
       "        text-align: right;\n",
       "    }\n",
       "</style>\n",
       "<table border=\"1\" class=\"dataframe\">\n",
       "  <thead>\n",
       "    <tr style=\"text-align: right;\">\n",
       "      <th></th>\n",
       "      <th>tmin</th>\n",
       "      <th>tmed</th>\n",
       "      <th>tmax</th>\n",
       "      <th>prec</th>\n",
       "      <th>presmin</th>\n",
       "      <th>presmax</th>\n",
       "      <th>velmedia</th>\n",
       "      <th>rachaviento</th>\n",
       "    </tr>\n",
       "  </thead>\n",
       "  <tbody>\n",
       "    <tr>\n",
       "      <th>0</th>\n",
       "      <td>24.400000</td>\n",
       "      <td>28.000000</td>\n",
       "      <td>31.700001</td>\n",
       "      <td>0.00</td>\n",
       "      <td>1010.400024</td>\n",
       "      <td>1014.299988</td>\n",
       "      <td>2.2</td>\n",
       "      <td>8.1</td>\n",
       "    </tr>\n",
       "    <tr>\n",
       "      <th>1</th>\n",
       "      <td>16.200001</td>\n",
       "      <td>19.799999</td>\n",
       "      <td>23.299999</td>\n",
       "      <td>5.80</td>\n",
       "      <td>1004.500000</td>\n",
       "      <td>1010.400024</td>\n",
       "      <td>3.3</td>\n",
       "      <td>13.1</td>\n",
       "    </tr>\n",
       "    <tr>\n",
       "      <th>2</th>\n",
       "      <td>23.500000</td>\n",
       "      <td>26.200001</td>\n",
       "      <td>28.799999</td>\n",
       "      <td>0.05</td>\n",
       "      <td>1010.099976</td>\n",
       "      <td>1018.000000</td>\n",
       "      <td>2.2</td>\n",
       "      <td>8.3</td>\n",
       "    </tr>\n",
       "    <tr>\n",
       "      <th>3</th>\n",
       "      <td>17.400000</td>\n",
       "      <td>24.600000</td>\n",
       "      <td>31.700001</td>\n",
       "      <td>0.00</td>\n",
       "      <td>934.099976</td>\n",
       "      <td>942.700012</td>\n",
       "      <td>2.5</td>\n",
       "      <td>11.7</td>\n",
       "    </tr>\n",
       "    <tr>\n",
       "      <th>4</th>\n",
       "      <td>17.400000</td>\n",
       "      <td>24.600000</td>\n",
       "      <td>31.700001</td>\n",
       "      <td>0.00</td>\n",
       "      <td>934.099976</td>\n",
       "      <td>942.700012</td>\n",
       "      <td>2.5</td>\n",
       "      <td>11.7</td>\n",
       "    </tr>\n",
       "  </tbody>\n",
       "</table>\n",
       "</div>"
      ],
      "text/plain": [
       "        tmin       tmed       tmax  prec      presmin      presmax  velmedia  \\\n",
       "0  24.400000  28.000000  31.700001  0.00  1010.400024  1014.299988       2.2   \n",
       "1  16.200001  19.799999  23.299999  5.80  1004.500000  1010.400024       3.3   \n",
       "2  23.500000  26.200001  28.799999  0.05  1010.099976  1018.000000       2.2   \n",
       "3  17.400000  24.600000  31.700001  0.00   934.099976   942.700012       2.5   \n",
       "4  17.400000  24.600000  31.700001  0.00   934.099976   942.700012       2.5   \n",
       "\n",
       "   rachaviento  \n",
       "0          8.1  \n",
       "1         13.1  \n",
       "2          8.3  \n",
       "3         11.7  \n",
       "4         11.7  "
      ]
     },
     "execution_count": 22,
     "metadata": {},
     "output_type": "execute_result"
    }
   ],
   "source": [
    "df15.loc[:,'tmin':].head()"
   ]
  },
  {
   "cell_type": "code",
   "execution_count": 21,
   "metadata": {},
   "outputs": [],
   "source": [
    "df15.loc[:,'tmin':] = df15.loc[:,'tmin':].apply(lambda x: x.str.replace(',', '.'))\n",
    "df15.loc[:,'tmin':] = df15.loc[:,'tmin':].apply(pd.to_numeric, downcast='float')"
   ]
  },
  {
   "cell_type": "code",
   "execution_count": 26,
   "metadata": {},
   "outputs": [
    {
     "name": "stdout",
     "output_type": "stream",
     "text": [
      "<class 'pandas.core.frame.DataFrame'>\n",
      "RangeIndex: 380 entries, 0 to 379\n",
      "Data columns (total 25 columns):\n",
      " #   Column              Non-Null Count  Dtype  \n",
      "---  ------              --------------  -----  \n",
      " 0   Equipo Local        380 non-null    object \n",
      " 1   Goles               380 non-null    int64  \n",
      " 2   Ataque              380 non-null    int64  \n",
      " 3   Medio               380 non-null    int64  \n",
      " 4   Defensa             380 non-null    int64  \n",
      " 5   Goles_Acumulados    380 non-null    int64  \n",
      " 6   Equipo Visitante    380 non-null    object \n",
      " 7   Goles.1             380 non-null    int64  \n",
      " 8   Ataque.1            380 non-null    int64  \n",
      " 9   Medio.1             380 non-null    int64  \n",
      " 10  Defensa.1           380 non-null    int64  \n",
      " 11  Goles_Acumulados.1  380 non-null    int64  \n",
      " 12  Día                 380 non-null    object \n",
      " 13  Hora                380 non-null    object \n",
      " 14  Jornada             380 non-null    int64  \n",
      " 15  Resultado           380 non-null    int64  \n",
      " 16  cod_est             380 non-null    object \n",
      " 17  tmin                380 non-null    float64\n",
      " 18  tmed                380 non-null    float64\n",
      " 19  tmax                380 non-null    float64\n",
      " 20  prec                380 non-null    float64\n",
      " 21  presmin             380 non-null    float64\n",
      " 22  presmax             380 non-null    float64\n",
      " 23  velmedia            380 non-null    float64\n",
      " 24  rachaviento         380 non-null    float64\n",
      "dtypes: float64(8), int64(12), object(5)\n",
      "memory usage: 74.3+ KB\n"
     ]
    }
   ],
   "source": [
    "df15.info()"
   ]
  },
  {
   "cell_type": "code",
   "execution_count": null,
   "metadata": {},
   "outputs": [],
   "source": []
  },
  {
   "cell_type": "code",
   "execution_count": null,
   "metadata": {},
   "outputs": [],
   "source": []
  },
  {
   "cell_type": "code",
   "execution_count": null,
   "metadata": {},
   "outputs": [],
   "source": [
    "est_meteo = {\n",
    "'Eibar': {'prov':'Gipuzkoa',\n",
    "         'cod_est':'1050J'},\n",
    "'Granada': {'prov':'Granada',\n",
    "            'cod_est':'5530E'},\n",
    "'Sporting de Gijón': {'prov':'Asturias',\n",
    "                      'cod_est':'1207U'},\n",
    "'Girona': {'prov':'Girona',\n",
    "           'cod_est':'0367'},\n",
    "'Espanyol': {'prov':'Barcelona',\n",
    "             'cod_est':'0076'},\n",
    "'Rayo Vallecano': {'prov':'Madrid',\n",
    "                   'cod_est':'3195'},\n",
    "'Athletic Club': {'prov':'Bizkaia',\n",
    "                  'cod_est':'1082'},\n",
    "'Alavés': {'prov':'Araba',\n",
    "           'cod_est':'9091R'},\n",
    "'Osasuna': {'prov':'Navarra',\n",
    "            'cod_est':'9263D'},\n",
    "'Deportivo de La Coruña': {'prov':'A Coruña',\n",
    "                           'cod_est':'1387'},\n",
    "'Sevilla': {'prov':'Sevilla',\n",
    "            'cod_est':'5783'},\n",
    "'Real Madrid': {'prov':'Madrid',\n",
    "                'cod_est':'3195'},\n",
    "'Leganés': {'prov':'Madrid',\n",
    "            'cod_est':'3195'},\n",
    "'Levante': {'prov':'Valencia',\n",
    "            'cod_est':'8414A'},\n",
    "'Barcelona': {'prov':'Barcelona',\n",
    "              'cod_est':'0076'},\n",
    "'Getafe': {'prov':'Madrid',\n",
    "           'cod_est':'3195'},\n",
    "'Málaga': {'prov':'Málaga',\n",
    "           'cod_est':'6156X'},\n",
    "'Villarreal': {'prov':'Castellón',\n",
    "               'cod_est':'8500A'},\n",
    "'Atlético de Madrid': {'prov':'Madrid',\n",
    "                       'cod_est':'3195'},\n",
    "'Real Sociedad': {'prov':'Gipuzkoa',\n",
    "                  'cod_est':'1014A'},\n",
    "'Las Palmas': {'prov':'Las Palmas',\n",
    "               'cod_est':'C659M'},\n",
    "'Celta de Vigo': {'prov':'Pontevedra',\n",
    "         'cod_est':'1495'},\n",
    "'Betis': {'prov':'Sevilla',\n",
    "          'cod_est':'5783'},\n",
    "'Valencia': {'prov':'Valencia',\n",
    "             'cod_est':'8414A'}\n",
    "\n",
    "}\n"
   ]
  },
  {
   "cell_type": "code",
   "execution_count": null,
   "metadata": {},
   "outputs": [],
   "source": []
  },
  {
   "cell_type": "code",
   "execution_count": null,
   "metadata": {},
   "outputs": [],
   "source": []
  },
  {
   "cell_type": "code",
   "execution_count": null,
   "metadata": {},
   "outputs": [],
   "source": []
  },
  {
   "cell_type": "code",
   "execution_count": null,
   "metadata": {},
   "outputs": [],
   "source": []
  },
  {
   "cell_type": "code",
   "execution_count": null,
   "metadata": {},
   "outputs": [],
   "source": []
  },
  {
   "cell_type": "code",
   "execution_count": null,
   "metadata": {},
   "outputs": [],
   "source": []
  },
  {
   "cell_type": "code",
   "execution_count": null,
   "metadata": {},
   "outputs": [],
   "source": []
  },
  {
   "cell_type": "code",
   "execution_count": null,
   "metadata": {},
   "outputs": [],
   "source": []
  },
  {
   "cell_type": "code",
   "execution_count": null,
   "metadata": {},
   "outputs": [],
   "source": []
  },
  {
   "cell_type": "code",
   "execution_count": null,
   "metadata": {},
   "outputs": [],
   "source": []
  },
  {
   "cell_type": "code",
   "execution_count": null,
   "metadata": {},
   "outputs": [],
   "source": []
  }
 ],
 "metadata": {
  "kernelspec": {
   "display_name": "Python 3",
   "language": "python",
   "name": "python3"
  },
  "language_info": {
   "codemirror_mode": {
    "name": "ipython",
    "version": 3
   },
   "file_extension": ".py",
   "mimetype": "text/x-python",
   "name": "python",
   "nbconvert_exporter": "python",
   "pygments_lexer": "ipython3",
   "version": "3.8.2"
  }
 },
 "nbformat": 4,
 "nbformat_minor": 4
}
